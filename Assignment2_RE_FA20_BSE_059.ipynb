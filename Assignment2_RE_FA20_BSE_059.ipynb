{
  "nbformat": 4,
  "nbformat_minor": 0,
  "metadata": {
    "colab": {
      "provenance": []
    },
    "kernelspec": {
      "name": "python3",
      "display_name": "Python 3"
    },
    "language_info": {
      "name": "python"
    }
  },
  "cells": [
    {
      "cell_type": "markdown",
      "source": [
        "**30 September 2023**"
      ],
      "metadata": {
        "id": "UOTqDG06OCxf"
      }
    },
    {
      "cell_type": "markdown",
      "source": [
        "**CSC-461- ASSIGNMENT2-REGULAR-EXPRESSIONS**"
      ],
      "metadata": {
        "id": "DwxL6R3XOQat"
      }
    },
    {
      "cell_type": "markdown",
      "source": [
        "**M SAAD NASIR**"
      ],
      "metadata": {
        "id": "83SLmrxNOQlZ"
      }
    },
    {
      "cell_type": "markdown",
      "source": [
        "**FA20-BSE-059**"
      ],
      "metadata": {
        "id": "2veDZE-cOQxG"
      }
    },
    {
      "cell_type": "markdown",
      "source": [
        "This task in this assignment is to perform specific operations on txt file using regular expression"
      ],
      "metadata": {
        "id": "tkVxn48SOpsz"
      }
    },
    {
      "cell_type": "code",
      "execution_count": 62,
      "metadata": {
        "id": "KTOT7fs2EC3y"
      },
      "outputs": [],
      "source": [
        "from google.colab import drive"
      ]
    },
    {
      "cell_type": "code",
      "source": [
        "drive.mount('/content/gdrive')"
      ],
      "metadata": {
        "colab": {
          "base_uri": "https://localhost:8080/"
        },
        "id": "CcR-vHcKEZPk",
        "outputId": "895c3e98-eb92-446c-b883-6aa0be748553"
      },
      "execution_count": 63,
      "outputs": [
        {
          "output_type": "stream",
          "name": "stdout",
          "text": [
            "Drive already mounted at /content/gdrive; to attempt to forcibly remount, call drive.mount(\"/content/gdrive\", force_remount=True).\n"
          ]
        }
      ]
    },
    {
      "cell_type": "code",
      "source": [
        "text_file_path = \"/content/gdrive/My Drive/ids/example-text.txt\""
      ],
      "metadata": {
        "id": "q_Ec1C_pFIsn"
      },
      "execution_count": 64,
      "outputs": []
    },
    {
      "cell_type": "code",
      "source": [
        "with open(text_file_path, \"r\") as f:\n",
        "    text = f.read()"
      ],
      "metadata": {
        "id": "-MDqfnmWFgQv"
      },
      "execution_count": 65,
      "outputs": []
    },
    {
      "cell_type": "code",
      "source": [
        "import re"
      ],
      "metadata": {
        "id": "LxqD2VgcGHfX"
      },
      "execution_count": 66,
      "outputs": []
    },
    {
      "cell_type": "code",
      "source": [
        "#list of words all words\n",
        "\n",
        "\n",
        "regex = r\"\\w+\"\n",
        "\n",
        "matches = re.findall(regex, text)\n",
        "words = []\n",
        "for match in matches:\n",
        "    words.append(match)\n",
        "print(words)"
      ],
      "metadata": {
        "colab": {
          "base_uri": "https://localhost:8080/"
        },
        "id": "-1VG9IgTFr0c",
        "outputId": "0cf1faf8-2df3-4f71-c3cd-f9ea38f4df40"
      },
      "execution_count": 67,
      "outputs": [
        {
          "output_type": "stream",
          "name": "stdout",
          "text": [
            "['The', 'outlook', 'wasn', 't', 'brilliant', 'for', 'the', 'Mudville', 'nine', 'that', 'day', 'The', 'score', 'stood', 'four', 'to', 'two', 'with', 'but', 'one', 'inning', 'more', 'to', 'play', 'And', 'then', 'when', 'Cooney', 'died', 'at', 'first', 'and', 'Barrows', 'did', 'the', 'same', 'A', 'pall', 'like', 'silence', 'fell', 'upon', 'the', 'patrons', 'of', 'the', 'game', 'A', 'straggling', 'few', 'got', 'up', 'to', 'go', 'in', 'deep', 'despair', 'The', 'rest', 'Clung', 'to', 'that', 'hope', 'which', 'springs', 'eternal', 'in', 'the', 'human', 'breast', 'They', 'thought', 'If', 'only', 'Casey', 'could', 'but', 'get', 'a', 'whack', 'at', 'that', 'We', 'd', 'put', 'up', 'even', 'money', 'now', 'with', 'Casey', 'at', 'the', 'bat', 'But', 'Flynn', 'preceded', 'Casey', 'as', 'did', 'also', 'Jimmy', 'Blake', 'And', 'the', 'former', 'was', 'a', 'lulu', 'while', 'the', 'latter', 'was', 'a', 'cake', 'So', 'upon', 'that', 'stricken', 'multitude', 'grim', 'melancholy', 'sat', 'For', 'there', 'seemed', 'but', 'little', 'chance', 'of', 'Casey', 'getting', 'to', 'the', 'bat', 'But', 'Flynn', 'let', 'drive', 'a', 'single', 'to', 'the', 'wonderment', 'of', 'all', 'And', 'Blake', 'the', 'much', 'despised', 'tore', 'the', 'cover', 'off', 'the', 'ball', 'And', 'when', 'the', 'dust', 'had', 'lifted', 'and', 'men', 'saw', 'what', 'had', 'occurred', 'There', 'was', 'Jimmy', 'safe', 'at', 'second', 'and', 'Flynn', 'a', 'hugging', 'third', 'Then', 'from', 'five', 'thousand', 'throats', 'and', 'more', 'there', 'rose', 'a', 'lusty', 'yell', 'It', 'rumbled', 'through', 'the', 'valley', 'it', 'rattled', 'in', 'the', 'dell', 'It', 'pounded', 'on', 'the', 'mountain', 'and', 'recoiled', 'upon', 'the', 'flat', 'For', 'Casey', 'mighty', 'Casey', 'was', 'advancing', 'to', 'the', 'bat', 'There', 'was', 'ease', 'in', 'Casey', 's', 'manner', 'as', 'he', 'stepped', 'into', 'his', 'place', 'There', 'was', 'pride', 'in', 'Casey', 's', 'bearing', 'and', 'a', 'smile', 'lit', 'Casey', 's', 'face', 'And', 'when', 'responding', 'to', 'the', 'cheers', 'he', 'lightly', 'doffed', 'his', 'hat', 'No', 'stranger', 'in', 'the', 'crowd', 'could', 'doubt', 'twas', 'Casey', 'at', 'the', 'bat', 'Ten', 'thousand', 'eyes', 'were', 'on', 'him', 'as', 'he', 'rubbed', 'his', 'hands', 'with', 'dirt', 'Five', 'thousand', 'tongues', 'applauded', 'when', 'he', 'wiped', 'them', 'on', 'his', 'shirt', 'Then', 'while', 'the', 'writhing', 'pitcher', 'ground', 'the', 'ball', 'into', 'his', 'hip', 'Defiance', 'flashed', 'in', 'Casey', 's', 'eye', 'a', 'sneer', 'curled', 'Casey', 's', 'lip', 'And', 'now', 'the', 'leather', 'covered', 'sphere', 'came', 'hurtling', 'through', 'the', 'air', 'And', 'Casey', 'stood', 'a', 'watching', 'it', 'in', 'haughty', 'grandeur', 'there', 'Close', 'by', 'the', 'sturdy', 'batsman', 'the', 'ball', 'unheeded', 'sped', 'That', 'ain', 't', 'my', 'style', 'said', 'Casey', 'Strike', 'one', 'the', 'umpire', 'said', 'From', 'the', 'benches', 'black', 'with', 'people', 'there', 'went', 'up', 'a', 'muffled', 'roar', 'Like', 'the', 'beating', 'of', 'the', 'storm', 'waves', 'on', 'a', 'stern', 'and', 'distant', 'shore', 'Kill', 'him', 'Kill', 'the', 'umpire', 'shouted', 'some', 'one', 'on', 'the', 'stand', 'And', 'it', 's', 'likely', 'they', 'd', 'have', 'killed', 'him', 'had', 'not', 'Casey', 'raised', 'his', 'hand', 'With', 'a', 'smile', 'of', 'Christian', 'charity', 'great', 'Casey', 's', 'visage', 'shone', 'He', 'stilled', 'the', 'rising', 'tumult', 'he', 'bade', 'the', 'game', 'go', 'on', 'He', 'signaled', 'to', 'the', 'pitcher', 'and', 'once', 'more', 'the', 'dun', 'sphere', 'flew', 'But', 'Casey', 'still', 'ignored', 'it', 'and', 'the', 'umpire', 'said', 'Strike', 'two', 'Fraud', 'cried', 'the', 'maddened', 'thousands', 'and', 'echo', 'answered', 'Fraud', 'But', 'one', 'scornful', 'look', 'from', 'Casey', 'and', 'the', 'audience', 'was', 'awed', 'They', 'saw', 'his', 'face', 'grow', 'stern', 'and', 'cold', 'they', 'saw', 'his', 'muscles', 'strain', 'And', 'they', 'knew', 'that', 'Casey', 'wouldn', 't', 'let', 'that', 'ball', 'go', 'by', 'again', 'The', 'sneer', 'has', 'fled', 'from', 'Casey', 's', 'lip', 'his', 'teeth', 'are', 'clenched', 'in', 'hate', 'He', 'pounds', 'with', 'cruel', 'violence', 'his', 'bat', 'upon', 'the', 'plate', 'And', 'now', 'the', 'pitcher', 'holds', 'the', 'ball', 'and', 'now', 'he', 'lets', 'it', 'go', 'And', 'now', 'the', 'air', 'is', 'shattered', 'by', 'the', 'force', 'of', 'Casey', 's', 'blow', 'Oh', 'somewhere', 'in', 'this', 'favored', 'land', 'the', 'sun', 'is', 'shining', 'bright', 'The', 'band', 'is', 'playing', 'somewhere', 'and', 'somewhere', 'hearts', 'are', 'light', 'And', 'somewhere', 'men', 'are', 'laughing', 'and', 'little', 'children', 'shout', 'But', 'there', 'is', 'no', 'joy', 'in', 'Mudville', 'great', 'Casey', 'has', 'struck', 'out']\n"
          ]
        }
      ]
    },
    {
      "cell_type": "code",
      "source": [
        "# list of all words starting with a capital letter\n",
        "\n",
        "regex = r\"\\b[A-Z]\\w+\\b\"\n",
        "\n",
        "matches = re.findall(regex, text)\n",
        "\n",
        "\n",
        "words = []\n",
        "for match in matches:\n",
        "    words.append(match)\n",
        "\n",
        "print(words)"
      ],
      "metadata": {
        "colab": {
          "base_uri": "https://localhost:8080/"
        },
        "id": "AWH6RCPmGUOh",
        "outputId": "eb032330-d00b-4b51-8631-ba9fc4330634"
      },
      "execution_count": 68,
      "outputs": [
        {
          "output_type": "stream",
          "name": "stdout",
          "text": [
            "['The', 'Mudville', 'The', 'And', 'Cooney', 'Barrows', 'The', 'Clung', 'They', 'If', 'Casey', 'We', 'Casey', 'But', 'Flynn', 'Casey', 'Jimmy', 'Blake', 'And', 'So', 'For', 'Casey', 'But', 'Flynn', 'And', 'Blake', 'And', 'There', 'Jimmy', 'Flynn', 'Then', 'It', 'It', 'For', 'Casey', 'Casey', 'There', 'Casey', 'There', 'Casey', 'Casey', 'And', 'No', 'Casey', 'Ten', 'Five', 'Then', 'Defiance', 'Casey', 'Casey', 'And', 'And', 'Casey', 'Close', 'That', 'Casey', 'Strike', 'From', 'Like', 'Kill', 'Kill', 'And', 'Casey', 'With', 'Christian', 'Casey', 'He', 'He', 'But', 'Casey', 'Strike', 'Fraud', 'Fraud', 'But', 'Casey', 'They', 'And', 'Casey', 'The', 'Casey', 'He', 'And', 'And', 'Casey', 'Oh', 'The', 'And', 'But', 'Mudville', 'Casey']\n"
          ]
        }
      ]
    },
    {
      "cell_type": "code",
      "source": [
        "# regular expression to match all words of length 5\n",
        "regex = r\"\\b\\w{5}\\b\"\n",
        "\n",
        "matches = re.findall(regex, text)\n",
        "\n",
        "words = []\n",
        "for match in matches:\n",
        "    words.append(match)\n",
        "\n",
        "print(words)"
      ],
      "metadata": {
        "colab": {
          "base_uri": "https://localhost:8080/"
        },
        "id": "7I_V192sGrIe",
        "outputId": "6f5ea432-7c1e-4ca4-e706-987e5967912d"
      },
      "execution_count": 69,
      "outputs": [
        {
          "output_type": "stream",
          "name": "stdout",
          "text": [
            "['score', 'stood', 'first', 'Clung', 'which', 'human', 'Casey', 'could', 'whack', 'money', 'Casey', 'Flynn', 'Casey', 'Jimmy', 'Blake', 'while', 'there', 'Casey', 'Flynn', 'drive', 'Blake', 'cover', 'There', 'Jimmy', 'Flynn', 'third', 'there', 'lusty', 'Casey', 'Casey', 'There', 'Casey', 'place', 'There', 'pride', 'Casey', 'smile', 'Casey', 'crowd', 'could', 'doubt', 'Casey', 'hands', 'wiped', 'shirt', 'while', 'Casey', 'sneer', 'Casey', 'Casey', 'stood', 'there', 'Close', 'style', 'Casey', 'black', 'there', 'storm', 'waves', 'stern', 'shore', 'stand', 'Casey', 'smile', 'great', 'Casey', 'shone', 'Casey', 'still', 'Fraud', 'cried', 'Fraud', 'Casey', 'stern', 'Casey', 'again', 'sneer', 'Casey', 'teeth', 'cruel', 'plate', 'holds', 'force', 'Casey', 'light', 'shout', 'there', 'great', 'Casey']\n"
          ]
        }
      ]
    },
    {
      "cell_type": "code",
      "source": [
        "#List of all words inside double quotes\n",
        "regex = r'\"(.*?)\"'\n",
        "\n",
        "matches = re.findall(regex, text)\n",
        "\n",
        "\n",
        "words = []\n",
        "for match in matches:\n",
        "    words.append(match)\n",
        "\n",
        "# Print the list of all words inside double quotes\n",
        "print(words)"
      ],
      "metadata": {
        "colab": {
          "base_uri": "https://localhost:8080/"
        },
        "id": "_R3AbJHyG6pm",
        "outputId": "367c8920-fadc-4b27-9d5a-51410ed660a2"
      },
      "execution_count": 70,
      "outputs": [
        {
          "output_type": "stream",
          "name": "stdout",
          "text": [
            "[\"That ain't my style,\", 'Strike one!', 'Kill him! Kill the umpire!', 'Strike two!', 'Fraud!', 'Fraud!']\n"
          ]
        }
      ]
    },
    {
      "cell_type": "code",
      "source": [
        "# Create a regular expression to match all vowels\n",
        "regex = r\"[aeiouAEIOU]\"\n",
        "\n",
        "matches = re.finditer(regex, text)\n",
        "\n",
        "vowels = []\n",
        "for match in matches:\n",
        "    vowels.append(match.group())\n",
        "\n",
        "print(vowels)"
      ],
      "metadata": {
        "colab": {
          "base_uri": "https://localhost:8080/"
        },
        "id": "fKU_taRhHjXz",
        "outputId": "c44070f1-42a6-40e4-bb65-ca5008d11445"
      },
      "execution_count": 71,
      "outputs": [
        {
          "output_type": "stream",
          "name": "stdout",
          "text": [
            "['e', 'o', 'u', 'o', 'o', 'a', 'i', 'i', 'a', 'o', 'e', 'u', 'i', 'e', 'i', 'e', 'a', 'a', 'e', 'o', 'e', 'o', 'o', 'o', 'u', 'o', 'o', 'i', 'u', 'o', 'e', 'i', 'i', 'o', 'e', 'o', 'a', 'A', 'e', 'e', 'o', 'o', 'e', 'i', 'e', 'a', 'i', 'a', 'a', 'o', 'i', 'e', 'a', 'e', 'A', 'a', 'i', 'e', 'i', 'e', 'e', 'e', 'u', 'o', 'e', 'a', 'o', 'o', 'e', 'a', 'e', 'A', 'a', 'i', 'e', 'o', 'u', 'o', 'o', 'i', 'e', 'e', 'e', 'a', 'i', 'e', 'e', 'u', 'o', 'a', 'o', 'e', 'i', 'i', 'e', 'e', 'a', 'i', 'e', 'u', 'a', 'e', 'a', 'e', 'o', 'u', 'I', 'o', 'a', 'e', 'o', 'u', 'u', 'e', 'a', 'a', 'a', 'a', 'e', 'u', 'u', 'e', 'e', 'o', 'e', 'o', 'i', 'a', 'e', 'a', 'e', 'a', 'u', 'e', 'e', 'e', 'a', 'e', 'a', 'i', 'a', 'o', 'i', 'a', 'e', 'A', 'e', 'o', 'e', 'a', 'a', 'u', 'u', 'i', 'e', 'e', 'a', 'e', 'a', 'a', 'a', 'e', 'o', 'u', 'o', 'a', 'i', 'e', 'u', 'i', 'u', 'e', 'i', 'e', 'a', 'o', 'a', 'o', 'e', 'e', 'e', 'e', 'e', 'u', 'i', 'e', 'a', 'e', 'o', 'a', 'e', 'e', 'i', 'o', 'e', 'a', 'u', 'e', 'i', 'e', 'a', 'i', 'e', 'o', 'e', 'o', 'e', 'e', 'o', 'a', 'A', 'a', 'e', 'e', 'u', 'e', 'i', 'e', 'o', 'e', 'e', 'o', 'e', 'o', 'e', 'a', 'A', 'e', 'e', 'u', 'a', 'i', 'e', 'a', 'e', 'a', 'a', 'a', 'o', 'u', 'e', 'e', 'e', 'a', 'i', 'a', 'e', 'a', 'e', 'o', 'a', 'a', 'u', 'i', 'i', 'e', 'o', 'i', 'e', 'o', 'u', 'a', 'o', 'a', 'a', 'o', 'e', 'e', 'e', 'o', 'e', 'a', 'u', 'e', 'I', 'u', 'e', 'o', 'u', 'e', 'a', 'e', 'i', 'a', 'e', 'i', 'e', 'e', 'I', 'o', 'u', 'e', 'o', 'e', 'o', 'u', 'a', 'i', 'a', 'e', 'o', 'i', 'e', 'u', 'o', 'e', 'a', 'o', 'a', 'e', 'i', 'a', 'e', 'a', 'a', 'a', 'i', 'o', 'e', 'a', 'e', 'e', 'a', 'e', 'a', 'e', 'i', 'a', 'e', 'a', 'e', 'a', 'e', 'e', 'e', 'i', 'o', 'i', 'a', 'e', 'e', 'e', 'a', 'i', 'e', 'i', 'a', 'e', 'e', 'a', 'i', 'a', 'a', 'i', 'e', 'i', 'a', 'e', 'a', 'e', 'A', 'e', 'e', 'o', 'i', 'o', 'e', 'e', 'e', 'e', 'i', 'o', 'e', 'i', 'a', 'o', 'a', 'e', 'i', 'e', 'o', 'o', 'u', 'o', 'u', 'a', 'a', 'e', 'a', 'e', 'a', 'e', 'o', 'u', 'a', 'e', 'e', 'e', 'e', 'o', 'i', 'a', 'e', 'u', 'e', 'i', 'a', 'i', 'i', 'i', 'e', 'o', 'u', 'a', 'o', 'u', 'e', 'a', 'a', 'u', 'e', 'e', 'e', 'i', 'e', 'e', 'o', 'i', 'i', 'e', 'i', 'e', 'e', 'i', 'i', 'i', 'e', 'o', 'u', 'e', 'a', 'i', 'o', 'i', 'i', 'e', 'i', 'a', 'e', 'a', 'e', 'i', 'a', 'e', 'e', 'e', 'a', 'e', 'e', 'u', 'e', 'a', 'e', 'i', 'A', 'o', 'e', 'e', 'a', 'e', 'o', 'e', 'e', 'e', 'e', 'a', 'e', 'u', 'i', 'o', 'u', 'e', 'a', 'i', 'A', 'a', 'e', 'o', 'o', 'a', 'a', 'i', 'i', 'i', 'a', 'u', 'a', 'e', 'u', 'e', 'e', 'o', 'e', 'e', 'u', 'a', 'a', 'e', 'a', 'u', 'e', 'e', 'e', 'e', 'a', 'a', 'i', 'e', 'a', 'i', 'a', 'e', 'i', 'e', 'o', 'e', 'e', 'u', 'i', 'e', 'a', 'i', 'o', 'e', 'e', 'e', 'a', 'i', 'e', 'o', 'e', 'e', 'e', 'e', 'u', 'a', 'u', 'e', 'o', 'a', 'i', 'e', 'e', 'e', 'a', 'i', 'o', 'e', 'o', 'a', 'e', 'o', 'a', 'e', 'a', 'i', 'a', 'o', 'e', 'i', 'i', 'i', 'e', 'u', 'i', 'e', 'o', 'u', 'e', 'o', 'e', 'o', 'e', 'o', 'e', 'a', 'A', 'i', 'i', 'e', 'e', 'a', 'e', 'i', 'e', 'i', 'a', 'o', 'a', 'e', 'a', 'i', 'e', 'i', 'a', 'i', 'a', 'i', 'e', 'o', 'i', 'i', 'a', 'a', 'i', 'e', 'a', 'a', 'e', 'i', 'a', 'e', 'o', 'e', 'e', 'i', 'e', 'e', 'i', 'i', 'u', 'u', 'e', 'a', 'e', 'e', 'a', 'e', 'o', 'o', 'e', 'i', 'a', 'e', 'o', 'e', 'i', 'e', 'a', 'o', 'e', 'o', 'e', 'e', 'u', 'e', 'e', 'e', 'u', 'a', 'e', 'i', 'i', 'o', 'e', 'i', 'a', 'e', 'u', 'i', 'e', 'a', 'i', 'i', 'e', 'o', 'a', 'u', 'i', 'e', 'e', 'a', 'e', 'e', 'o', 'u', 'a', 'a', 'e', 'o', 'a', 'e', 'e', 'a', 'u', 'u', 'o', 'e', 'o', 'u', 'o', 'o', 'o', 'a', 'e', 'a', 'e', 'a', 'u', 'i', 'e', 'e', 'a', 'a', 'e', 'e', 'a', 'i', 'a', 'e', 'o', 'e', 'a', 'o', 'e', 'a', 'i', 'u', 'e', 'a', 'i', 'A', 'e', 'e', 'a', 'a', 'e', 'o', 'u', 'e', 'a', 'a', 'o', 'a', 'a', 'i', 'e', 'e', 'e', 'a', 'e', 'o', 'a', 'e', 'i', 'i', 'e', 'e', 'a', 'e', 'e', 'e', 'i', 'a', 'e', 'e', 'o', 'u', 'i', 'u', 'e', 'i', 'o', 'e', 'e', 'i', 'a', 'u', 'o', 'e', 'a', 'e', 'A', 'o', 'e', 'i', 'e', 'o', 'e', 'a', 'a', 'o', 'e', 'e', 'i', 'o', 'A', 'o', 'e', 'a', 'i', 'i', 'a', 'e', 'e', 'e', 'o', 'e', 'o', 'a', 'e', 'o', 'O', 'o', 'e', 'e', 'e', 'i', 'i', 'a', 'o', 'e', 'a', 'e', 'u', 'i', 'i', 'i', 'i', 'e', 'a', 'i', 'a', 'i', 'o', 'e', 'e', 'e', 'a', 'o', 'e', 'e', 'e', 'e', 'a', 'a', 'e', 'i', 'A', 'o', 'e', 'e', 'e', 'e', 'a', 'e', 'a', 'u', 'i', 'a', 'i', 'e', 'i', 'e', 'o', 'u', 'u', 'e', 'e', 'i', 'o', 'o', 'i', 'u', 'i', 'e', 'e', 'a', 'a', 'e', 'a', 'u', 'o', 'u']\n"
          ]
        }
      ]
    },
    {
      "cell_type": "code",
      "source": [
        "#regular expression to match 3-letter words ending with the letter \"e\"\n",
        "regex = r'\\b\\w{2}e\\b'\n",
        "\n",
        "# Extract all matches from the text\n",
        "matches = re.findall(regex, text)\n",
        "\n",
        "words = []\n",
        "for match in matches:\n",
        "    words.append(match)\n",
        "\n",
        "print(words)"
      ],
      "metadata": {
        "colab": {
          "base_uri": "https://localhost:8080/"
        },
        "id": "UnJZMgffH_rA",
        "outputId": "44546389-b252-4069-987c-a9c75e3d306c"
      },
      "execution_count": 72,
      "outputs": [
        {
          "output_type": "stream",
          "name": "stdout",
          "text": [
            "['The', 'the', 'The', 'one', 'the', 'the', 'the', 'The', 'the', 'the', 'the', 'the', 'the', 'the', 'the', 'the', 'the', 'the', 'the', 'the', 'the', 'the', 'the', 'the', 'the', 'the', 'the', 'the', 'eye', 'the', 'the', 'the', 'the', 'one', 'the', 'the', 'the', 'the', 'the', 'one', 'the', 'the', 'the', 'the', 'the', 'the', 'the', 'one', 'the', 'The', 'are', 'the', 'the', 'the', 'the', 'the', 'the', 'The', 'are', 'are']\n"
          ]
        }
      ]
    },
    {
      "cell_type": "code",
      "source": [
        "# Create a regular expression to match words starting and ending with the letter \"b\"\n",
        "regex = r\"\\bb\\w*b\\b\"\n",
        "\n",
        "matches = re.findall(regex, text)\n",
        "\n",
        "words = []\n",
        "for match in matches:\n",
        "    words.append(match)\n",
        "\n",
        "print(words)\n"
      ],
      "metadata": {
        "colab": {
          "base_uri": "https://localhost:8080/"
        },
        "id": "V_sDRasdIQCu",
        "outputId": "1fa478fa-e5ad-4af2-ad55-56d9bcee20ac"
      },
      "execution_count": 73,
      "outputs": [
        {
          "output_type": "stream",
          "name": "stdout",
          "text": [
            "[]\n"
          ]
        }
      ]
    },
    {
      "cell_type": "code",
      "source": [
        "#Remove Punctuation Marks\n",
        "regex = r\"[^\\w\\s]\"\n",
        "\n",
        "\n",
        "\n",
        "text = re.sub(regex, \"\", text)\n",
        "\n",
        "print(text)"
      ],
      "metadata": {
        "colab": {
          "base_uri": "https://localhost:8080/"
        },
        "id": "hXL_30zfI07K",
        "outputId": "41e842dc-bdba-41a6-a119-a3d46ffcaf8e"
      },
      "execution_count": 74,
      "outputs": [
        {
          "output_type": "stream",
          "name": "stdout",
          "text": [
            "The outlook wasnt brilliant for the Mudville nine that day \n",
            "The score stood four to two with but one inning more to play\n",
            "And then when Cooney died at first and Barrows did the same\n",
            "A palllike silence fell upon the patrons of the game \n",
            "\n",
            "A straggling few got up to go in deep despair The rest\n",
            "Clung to that hope which springs eternal in the human breast\n",
            "They thought If only Casey could but get a whack at that\n",
            "Wed put up even money now with Casey at the bat \n",
            "\n",
            "But Flynn preceded Casey as did also Jimmy Blake\n",
            "And the former was a lulu while the latter was a cake\n",
            "So upon that stricken multitude grim melancholy sat\n",
            "For there seemed but little chance of Casey getting to the bat\n",
            "\n",
            "But Flynn let drive a single to the wonderment of all\n",
            "And Blake the much despised tore the cover off the ball\n",
            "And when the dust had lifted and men saw what had occurred\n",
            "There was Jimmy safe at second and Flynn ahugging third \n",
            "\n",
            "Then from five thousand throats and more there rose a lusty yell\n",
            "It rumbled through the valley it rattled in the dell\n",
            "It pounded on the mountain and recoiled upon the flat\n",
            "For Casey mighty Casey was advancing to the bat \n",
            "\n",
            "There was ease in Caseys manner as he stepped into his place\n",
            "There was pride in Caseys bearing and a smile lit Caseys face\n",
            "And when responding to the cheers he lightly doffed his hat\n",
            "No stranger in the crowd could doubt twas Casey at the bat \n",
            "\n",
            "Ten thousand eyes were on him as he rubbed his hands with dirt\n",
            "Five thousand tongues applauded when he wiped them on his shirt\n",
            "Then while the writhing pitcher ground the ball into his hip\n",
            "Defiance flashed in Caseys eye a sneer curled Caseys lip \n",
            "\n",
            "And now the leathercovered sphere came hurtling through the air\n",
            "And Casey stood awatching it in haughty grandeur there\n",
            "Close by the sturdy batsman the ball unheeded sped\n",
            "That aint my style said Casey Strike one the umpire said \n",
            "\n",
            "From the benches black with people there went up a muffled roar\n",
            "Like the beating of the stormwaves on a stern and distant shore\n",
            "Kill him Kill the umpire shouted some one on the stand\n",
            "And its likely theyd have killed him had not Casey raised his hand \n",
            "\n",
            "With a smile of Christian charity great Caseys visage shone\n",
            "He stilled the rising tumult he bade the game go on\n",
            "He signaled to the pitcher and once more the dun sphere flew\n",
            "But Casey still ignored it and the umpire said Strike two \n",
            "\n",
            "Fraud cried the maddened thousands and echo answered Fraud\n",
            "But one scornful look from Casey and the audience was awed\n",
            "They saw his face grow stern and cold they saw his muscles strain\n",
            "And they knew that Casey wouldnt let that ball go by again \n",
            "\n",
            "The sneer has fled from Caseys lip his teeth are clenched in hate\n",
            "He pounds with cruel violence his bat upon the plate\n",
            "And now the pitcher holds the ball and now he lets it go\n",
            "And now the air is shattered by the force of Caseys blow \n",
            "\n",
            "Oh somewhere in this favored land the sun is shining bright\n",
            "The band is playing somewhere and somewhere hearts are light\n",
            "And somewhere men are laughing and little children shout\n",
            "But there is no joy in Mudvillegreat Casey has struck out\n",
            "\n"
          ]
        }
      ]
    },
    {
      "cell_type": "code",
      "source": [
        "# regular expression to match all words ending with n't\n",
        "regex = r\"\\b(\\w+)n't\\b\"\n",
        "\n",
        "text = re.sub(regex,\"not\", text)\n",
        "\n",
        "print(text)"
      ],
      "metadata": {
        "colab": {
          "base_uri": "https://localhost:8080/"
        },
        "id": "41dO2KYsLI8G",
        "outputId": "71c1317e-d8d8-4c5c-ce0d-d627d115b233"
      },
      "execution_count": 75,
      "outputs": [
        {
          "output_type": "stream",
          "name": "stdout",
          "text": [
            "The outlook wasnt brilliant for the Mudville nine that day \n",
            "The score stood four to two with but one inning more to play\n",
            "And then when Cooney died at first and Barrows did the same\n",
            "A palllike silence fell upon the patrons of the game \n",
            "\n",
            "A straggling few got up to go in deep despair The rest\n",
            "Clung to that hope which springs eternal in the human breast\n",
            "They thought If only Casey could but get a whack at that\n",
            "Wed put up even money now with Casey at the bat \n",
            "\n",
            "But Flynn preceded Casey as did also Jimmy Blake\n",
            "And the former was a lulu while the latter was a cake\n",
            "So upon that stricken multitude grim melancholy sat\n",
            "For there seemed but little chance of Casey getting to the bat\n",
            "\n",
            "But Flynn let drive a single to the wonderment of all\n",
            "And Blake the much despised tore the cover off the ball\n",
            "And when the dust had lifted and men saw what had occurred\n",
            "There was Jimmy safe at second and Flynn ahugging third \n",
            "\n",
            "Then from five thousand throats and more there rose a lusty yell\n",
            "It rumbled through the valley it rattled in the dell\n",
            "It pounded on the mountain and recoiled upon the flat\n",
            "For Casey mighty Casey was advancing to the bat \n",
            "\n",
            "There was ease in Caseys manner as he stepped into his place\n",
            "There was pride in Caseys bearing and a smile lit Caseys face\n",
            "And when responding to the cheers he lightly doffed his hat\n",
            "No stranger in the crowd could doubt twas Casey at the bat \n",
            "\n",
            "Ten thousand eyes were on him as he rubbed his hands with dirt\n",
            "Five thousand tongues applauded when he wiped them on his shirt\n",
            "Then while the writhing pitcher ground the ball into his hip\n",
            "Defiance flashed in Caseys eye a sneer curled Caseys lip \n",
            "\n",
            "And now the leathercovered sphere came hurtling through the air\n",
            "And Casey stood awatching it in haughty grandeur there\n",
            "Close by the sturdy batsman the ball unheeded sped\n",
            "That aint my style said Casey Strike one the umpire said \n",
            "\n",
            "From the benches black with people there went up a muffled roar\n",
            "Like the beating of the stormwaves on a stern and distant shore\n",
            "Kill him Kill the umpire shouted some one on the stand\n",
            "And its likely theyd have killed him had not Casey raised his hand \n",
            "\n",
            "With a smile of Christian charity great Caseys visage shone\n",
            "He stilled the rising tumult he bade the game go on\n",
            "He signaled to the pitcher and once more the dun sphere flew\n",
            "But Casey still ignored it and the umpire said Strike two \n",
            "\n",
            "Fraud cried the maddened thousands and echo answered Fraud\n",
            "But one scornful look from Casey and the audience was awed\n",
            "They saw his face grow stern and cold they saw his muscles strain\n",
            "And they knew that Casey wouldnt let that ball go by again \n",
            "\n",
            "The sneer has fled from Caseys lip his teeth are clenched in hate\n",
            "He pounds with cruel violence his bat upon the plate\n",
            "And now the pitcher holds the ball and now he lets it go\n",
            "And now the air is shattered by the force of Caseys blow \n",
            "\n",
            "Oh somewhere in this favored land the sun is shining bright\n",
            "The band is playing somewhere and somewhere hearts are light\n",
            "And somewhere men are laughing and little children shout\n",
            "But there is no joy in Mudvillegreat Casey has struck out\n",
            "\n"
          ]
        }
      ]
    },
    {
      "cell_type": "code",
      "source": [
        "# Replace all new lines with a single space\n",
        "text = re.sub(r\"\\n+\", \" \", text)\n",
        "\n",
        "print(text)"
      ],
      "metadata": {
        "colab": {
          "base_uri": "https://localhost:8080/"
        },
        "id": "HgsEqXLBL8IU",
        "outputId": "9fa3d0fc-8a45-44be-f2bf-2084fc428ab2"
      },
      "execution_count": 76,
      "outputs": [
        {
          "output_type": "stream",
          "name": "stdout",
          "text": [
            "The outlook wasnt brilliant for the Mudville nine that day  The score stood four to two with but one inning more to play And then when Cooney died at first and Barrows did the same A palllike silence fell upon the patrons of the game  A straggling few got up to go in deep despair The rest Clung to that hope which springs eternal in the human breast They thought If only Casey could but get a whack at that Wed put up even money now with Casey at the bat  But Flynn preceded Casey as did also Jimmy Blake And the former was a lulu while the latter was a cake So upon that stricken multitude grim melancholy sat For there seemed but little chance of Casey getting to the bat But Flynn let drive a single to the wonderment of all And Blake the much despised tore the cover off the ball And when the dust had lifted and men saw what had occurred There was Jimmy safe at second and Flynn ahugging third  Then from five thousand throats and more there rose a lusty yell It rumbled through the valley it rattled in the dell It pounded on the mountain and recoiled upon the flat For Casey mighty Casey was advancing to the bat  There was ease in Caseys manner as he stepped into his place There was pride in Caseys bearing and a smile lit Caseys face And when responding to the cheers he lightly doffed his hat No stranger in the crowd could doubt twas Casey at the bat  Ten thousand eyes were on him as he rubbed his hands with dirt Five thousand tongues applauded when he wiped them on his shirt Then while the writhing pitcher ground the ball into his hip Defiance flashed in Caseys eye a sneer curled Caseys lip  And now the leathercovered sphere came hurtling through the air And Casey stood awatching it in haughty grandeur there Close by the sturdy batsman the ball unheeded sped That aint my style said Casey Strike one the umpire said  From the benches black with people there went up a muffled roar Like the beating of the stormwaves on a stern and distant shore Kill him Kill the umpire shouted some one on the stand And its likely theyd have killed him had not Casey raised his hand  With a smile of Christian charity great Caseys visage shone He stilled the rising tumult he bade the game go on He signaled to the pitcher and once more the dun sphere flew But Casey still ignored it and the umpire said Strike two  Fraud cried the maddened thousands and echo answered Fraud But one scornful look from Casey and the audience was awed They saw his face grow stern and cold they saw his muscles strain And they knew that Casey wouldnt let that ball go by again  The sneer has fled from Caseys lip his teeth are clenched in hate He pounds with cruel violence his bat upon the plate And now the pitcher holds the ball and now he lets it go And now the air is shattered by the force of Caseys blow  Oh somewhere in this favored land the sun is shining bright The band is playing somewhere and somewhere hearts are light And somewhere men are laughing and little children shout But there is no joy in Mudvillegreat Casey has struck out \n"
          ]
        }
      ]
    },
    {
      "cell_type": "code",
      "source": [],
      "metadata": {
        "id": "fNoV7fACNqWa"
      },
      "execution_count": 76,
      "outputs": []
    }
  ]
}